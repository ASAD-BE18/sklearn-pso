{
 "cells": [
  {
   "cell_type": "code",
   "execution_count": 1,
   "metadata": {},
   "outputs": [],
   "source": [
    "import sys\n",
    "import os\n",
    "# Insert system path to use script\n",
    "sys.path.append(os.path.dirname(os.getcwd()))\n",
    "%load_ext autoreload\n",
    "%autoreload 2\n",
    "%matplotlib inline"
   ]
  },
  {
   "cell_type": "code",
   "execution_count": 4,
   "metadata": {},
   "outputs": [
    {
     "name": "stdout",
     "output_type": "stream",
     "text": [
      "Iteration: 1 | avg: -0.1869 | min:-0.9610 | std: 0.2276\n",
      "Iteration: 2 | avg: -0.2778 | min:-0.9777 | std: 0.3127\n",
      "Iteration: 3 | avg: -0.5939 | min:-0.9805 | std: 0.4043\n",
      "Iteration: 4 | avg: -0.7939 | min:-0.9805 | std: 0.3212\n"
     ]
    },
    {
     "name": "stderr",
     "output_type": "stream",
     "text": [
      "2020-03-11 20:36:31,118 - pso_search.optimize - INFO - Optimization finished | best cost: -0.9805233853006682, best pos: [8.53921169 4.88555229]\n"
     ]
    },
    {
     "name": "stdout",
     "output_type": "stream",
     "text": [
      "Iteration: 5 | avg: -0.9031 | min:-0.9805 | std: 0.2037\n",
      "The best cost found by pso is: -0.9805\n",
      "The best position found by pso is: {'C': 346108044.60263175, 'gamma': 0.0005722350238635339, 'kernel': 'rbf'}\n"
     ]
    },
    {
     "name": "stderr",
     "output_type": "stream",
     "text": [
      "/home/xinyu/anaconda3/envs/acscat/lib/python3.7/site-packages/sklearn/model_selection/_search.py:823: FutureWarning: The parameter 'iid' is deprecated in 0.22 and will be removed in 0.24.\n",
      "  \"removed in 0.24.\", FutureWarning\n"
     ]
    },
    {
     "data": {
      "text/plain": [
       "PSOSearchCV(cv=StratifiedKFold(n_splits=4, random_state=None, shuffle=False),\n",
       "            error_score=nan,\n",
       "            estimator=SVC(C=1.0, break_ties=False, cache_size=200,\n",
       "                          class_weight=None, coef0=0.0,\n",
       "                          decision_function_shape='ovr', degree=3,\n",
       "                          gamma='scale', kernel='rbf', max_iter=-1,\n",
       "                          probability=False, random_state=None, shrinking=True,\n",
       "                          tol=0.001, verbose=False),\n",
       "            iid=True, iterations=5, n_jobs=4, n_particles=32,\n",
       "            param_grid={'C': <pso_search.utils.LogSpace object at 0x7f0233202ac8>,\n",
       "                        'gamma': <pso_search.utils.BaseMapFunction object at 0x7f02332260b8>,\n",
       "                        'kernel': ['rbf']},\n",
       "            pre_dispatch='2*n_jobs', pso_c1=0.5, pso_c2=0.3, pso_w=0.9,\n",
       "            refit=True, return_train_score=False, scoring='accuracy',\n",
       "            verbose=0)"
      ]
     },
     "execution_count": 4,
     "metadata": {},
     "output_type": "execute_result"
    }
   ],
   "source": [
    "import sklearn.datasets\n",
    "import numpy as np\n",
    "import random\n",
    "\n",
    "data = sklearn.datasets.load_digits()\n",
    "X = data[\"data\"]\n",
    "y = data[\"target\"]\n",
    "\n",
    "from sklearn.svm import SVC\n",
    "from sklearn.model_selection import StratifiedKFold\n",
    "from pso_search.utils import Bound, LogSpace, BaseMapFunction\n",
    "\n",
    "paramgrid = {\"kernel\": [\"rbf\"],\n",
    "             \"C\"     : LogSpace(10., -9., 9.), \n",
    "             \"gamma\" : BaseMapFunction(lambda x:1/(2*(2**x)**2), -9., 9.)}\n",
    "\n",
    "random.seed(1)\n",
    "\n",
    "from pso_search import PSOSearchCV\n",
    "cv = PSOSearchCV(estimator=SVC(),\n",
    "                                   param_grid=paramgrid,\n",
    "                                   scoring=\"accuracy\",\n",
    "                                   n_particles=32, \n",
    "                                   cv=StratifiedKFold(n_splits=4),\n",
    "                                   verbose=0,\n",
    "                                   iterations = 5, \n",
    "                                   n_jobs=4)\n",
    "cv.fit(X, y)"
   ]
  },
  {
   "cell_type": "code",
   "execution_count": null,
   "metadata": {},
   "outputs": [],
   "source": [
    "cv.best_params_"
   ]
  },
  {
   "cell_type": "code",
   "execution_count": null,
   "metadata": {},
   "outputs": [],
   "source": []
  }
 ],
 "metadata": {
  "kernelspec": {
   "display_name": "Python 3",
   "language": "python",
   "name": "python3"
  },
  "language_info": {
   "codemirror_mode": {
    "name": "ipython",
    "version": 3
   },
   "file_extension": ".py",
   "mimetype": "text/x-python",
   "name": "python",
   "nbconvert_exporter": "python",
   "pygments_lexer": "ipython3",
   "version": "3.7.3"
  }
 },
 "nbformat": 4,
 "nbformat_minor": 4
}
