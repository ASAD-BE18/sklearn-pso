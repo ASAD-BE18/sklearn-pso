{
 "cells": [
  {
   "cell_type": "code",
   "execution_count": null,
   "metadata": {},
   "outputs": [],
   "source": [
    "import sys\n",
    "import os\n",
    "# Insert system path to use script\n",
    "sys.path.append(os.path.dirname(os.getcwd()))\n",
    "%load_ext autoreload\n",
    "%autoreload 2\n",
    "%matplotlib inline"
   ]
  },
  {
   "cell_type": "code",
   "execution_count": 2,
   "metadata": {},
   "outputs": [
    {
     "name": "stderr",
     "output_type": "stream",
     "text": [
      "/home/xinyu/anaconda3/envs/acscat/lib/python3.7/site-packages/sklearn/utils/deprecation.py:144: FutureWarning: The sklearn.metrics.scorer module is  deprecated in version 0.22 and will be removed in version 0.24. The corresponding classes / functions should instead be imported from sklearn.metrics. Anything that cannot be imported from sklearn.metrics is now part of the private API.\n",
      "  warnings.warn(message, FutureWarning)\n"
     ]
    },
    {
     "name": "stdout",
     "output_type": "stream",
     "text": [
      "Iteration: 1 | avg: -0.3038 | min:-0.9633 | std: 0.3509\n",
      "Iteration: 2 | avg: -0.3767 | min:-0.9777 | std: 0.3784\n",
      "Iteration: 3 | avg: -0.5819 | min:-0.9789 | std: 0.4014\n",
      "Iteration: 4 | avg: -0.7862 | min:-0.9800 | std: 0.3201\n"
     ]
    },
    {
     "name": "stderr",
     "output_type": "stream",
     "text": [
      "2020-09-11 01:52:39,903 - pso_search.optimize - INFO - Optimization finished | best cost: -0.979966592427617, best pos: [4.8145999  4.93958168]\n"
     ]
    },
    {
     "name": "stdout",
     "output_type": "stream",
     "text": [
      "Iteration: 5 | avg: -0.8486 | min:-0.9794 | std: 0.2851\n",
      "The best cost found by pso is: -0.9800\n",
      "The best position found by pso is: {'C': 65252.91182618006, 'gamma': 0.0005309400650688122, 'kernel': 'rbf'}\n"
     ]
    },
    {
     "name": "stderr",
     "output_type": "stream",
     "text": [
      "/home/xinyu/anaconda3/envs/acscat/lib/python3.7/site-packages/sklearn/model_selection/_search.py:823: FutureWarning: The parameter 'iid' is deprecated in 0.22 and will be removed in 0.24.\n",
      "  \"removed in 0.24.\", FutureWarning\n"
     ]
    },
    {
     "data": {
      "text/plain": [
       "PSOSearchCV(cv=StratifiedKFold(n_splits=4, random_state=None, shuffle=False),\n",
       "            error_score=nan,\n",
       "            estimator=SVC(C=1.0, break_ties=False, cache_size=200,\n",
       "                          class_weight=None, coef0=0.0,\n",
       "                          decision_function_shape='ovr', degree=3,\n",
       "                          gamma='scale', kernel='rbf', max_iter=-1,\n",
       "                          probability=False, random_state=None, shrinking=True,\n",
       "                          tol=0.001, verbose=False),\n",
       "            iid=True, iterations=5, n_jobs=4, n_particles=32,\n",
       "            param_grid={'C': <pso_search.utils.LogSpace object at 0x7f8db5337710>,\n",
       "                        'gamma': <pso_search.utils.BaseMapFunction object at 0x7f8db4025fd0>,\n",
       "                        'kernel': ['rbf']},\n",
       "            pre_dispatch='2*n_jobs', pso_c1=0.5, pso_c2=0.3, pso_w=0.9,\n",
       "            refit=True, return_train_score=False, scoring='accuracy',\n",
       "            verbose=0)"
      ]
     },
     "execution_count": 2,
     "metadata": {},
     "output_type": "execute_result"
    }
   ],
   "source": [
    "import sklearn.datasets\n",
    "import numpy as np\n",
    "import random\n",
    "\n",
    "data = sklearn.datasets.load_digits()\n",
    "X = data[\"data\"]\n",
    "y = data[\"target\"]\n",
    "\n",
    "from sklearn.svm import SVC\n",
    "from sklearn.model_selection import StratifiedKFold\n",
    "from pso_search.utils import Bound, LogSpace, BaseMapFunction\n",
    "\n",
    "paramgrid = {\"kernel\": [\"rbf\"],\n",
    "             \"C\"     : LogSpace(10., -9., 9.), \n",
    "             \"gamma\" : BaseMapFunction(lambda x:1/(2*(2**x)**2), -9., 9.)}\n",
    "\n",
    "random.seed(1)\n",
    "\n",
    "from pso_search import PSOSearchCV\n",
    "cv = PSOSearchCV(estimator=SVC(),\n",
    "                                   param_grid=paramgrid,\n",
    "                                   scoring=\"accuracy\",\n",
    "                                   n_particles=32, \n",
    "                                   cv=StratifiedKFold(n_splits=4),\n",
    "                                   verbose=0,\n",
    "                                   iterations = 5, \n",
    "                                   n_jobs=4)\n",
    "cv.fit(X, y)"
   ]
  },
  {
   "cell_type": "code",
   "execution_count": 3,
   "metadata": {},
   "outputs": [
    {
     "data": {
      "text/plain": [
       "{'C': 170.07965830084248, 'gamma': 0.0006037212009010935, 'kernel': 'rbf'}"
      ]
     },
     "execution_count": 3,
     "metadata": {},
     "output_type": "execute_result"
    }
   ],
   "source": [
    "cv.best_params_"
   ]
  },
  {
   "cell_type": "code",
   "execution_count": 2,
   "metadata": {},
   "outputs": [],
   "source": [
    "import matplotlib.pyplot as plt\n",
    "import numpy as np\n",
    "from sklearn import datasets, ensemble\n",
    "from sklearn.inspection import permutation_importance\n",
    "from sklearn.metrics import mean_squared_error\n",
    "from sklearn.model_selection import train_test_split"
   ]
  },
  {
   "cell_type": "code",
   "execution_count": 3,
   "metadata": {},
   "outputs": [
    {
     "data": {
      "text/plain": [
       "((442, 10), (442,))"
      ]
     },
     "execution_count": 3,
     "metadata": {},
     "output_type": "execute_result"
    }
   ],
   "source": [
    "diabetes = datasets.load_diabetes()\n",
    "X, y = diabetes.data, diabetes.target\n",
    "X.shape, y.shape"
   ]
  },
  {
   "cell_type": "code",
   "execution_count": 9,
   "metadata": {},
   "outputs": [],
   "source": [
    "from pso_search.utils import Bound, LogSpace, BaseMapFunction, IntBound\n"
   ]
  },
  {
   "cell_type": "code",
   "execution_count": 10,
   "metadata": {},
   "outputs": [],
   "source": [
    "X_train, X_test, y_train, y_test = train_test_split(\n",
    "    X, y, test_size=0.1, random_state=13)\n",
    "\n",
    "params = {'n_estimators': IntBound(5, 50),\n",
    "          'max_depth': IntBound(1, 5),\n",
    "          'min_samples_split': IntBound(2, 5),\n",
    "          'learning_rate': Bound(1e-2, 1e-1),\n",
    "          'loss': ['ls']}"
   ]
  },
  {
   "cell_type": "code",
   "execution_count": null,
   "metadata": {},
   "outputs": [
    {
     "name": "stdout",
     "output_type": "stream",
     "text": [
      "[{'n_estimators': 34, 'max_depth': 2, 'min_samples_split': 4, 'learning_rate': 0.08435167519038064}, {'n_estimators': 6, 'max_depth': 3, 'min_samples_split': 3, 'learning_rate': 0.01714801577767775}, {'n_estimators': 39, 'max_depth': 1, 'min_samples_split': 5, 'learning_rate': 0.02215214772028766}, {'n_estimators': 44, 'max_depth': 3, 'min_samples_split': 3, 'learning_rate': 0.05220012243565697}, {'n_estimators': 49, 'max_depth': 3, 'min_samples_split': 3, 'learning_rate': 0.03250037562972046}, {'n_estimators': 44, 'max_depth': 3, 'min_samples_split': 4, 'learning_rate': 0.08650121301320296}, {'n_estimators': 21, 'max_depth': 5, 'min_samples_split': 3, 'learning_rate': 0.061671008568311314}, {'n_estimators': 13, 'max_depth': 2, 'min_samples_split': 4, 'learning_rate': 0.08845648508011766}, {'n_estimators': 38, 'max_depth': 5, 'min_samples_split': 3, 'learning_rate': 0.07339149284747751}, {'n_estimators': 29, 'max_depth': 3, 'min_samples_split': 3, 'learning_rate': 0.06844315209638223}, {'n_estimators': 42, 'max_depth': 3, 'min_samples_split': 3, 'learning_rate': 0.04760480416179233}, {'n_estimators': 9, 'max_depth': 2, 'min_samples_split': 3, 'learning_rate': 0.08277222605207415}, {'n_estimators': 31, 'max_depth': 1, 'min_samples_split': 4, 'learning_rate': 0.029902638989548876}, {'n_estimators': 30, 'max_depth': 3, 'min_samples_split': 5, 'learning_rate': 0.08313965582048728}, {'n_estimators': 17, 'max_depth': 4, 'min_samples_split': 5, 'learning_rate': 0.03083106979612514}, {'n_estimators': 29, 'max_depth': 3, 'min_samples_split': 5, 'learning_rate': 0.04354640485545395}, {'n_estimators': 43, 'max_depth': 2, 'min_samples_split': 3, 'learning_rate': 0.055295193746803355}, {'n_estimators': 23, 'max_depth': 3, 'min_samples_split': 3, 'learning_rate': 0.0498027748534868}, {'n_estimators': 9, 'max_depth': 4, 'min_samples_split': 5, 'learning_rate': 0.02016996824193606}, {'n_estimators': 23, 'max_depth': 4, 'min_samples_split': 4, 'learning_rate': 0.03621308383421129}, {'n_estimators': 23, 'max_depth': 2, 'min_samples_split': 3, 'learning_rate': 0.06710384357329455}, {'n_estimators': 38, 'max_depth': 5, 'min_samples_split': 4, 'learning_rate': 0.04085639515436638}, {'n_estimators': 27, 'max_depth': 3, 'min_samples_split': 4, 'learning_rate': 0.06976522363930293}, {'n_estimators': 34, 'max_depth': 2, 'min_samples_split': 2, 'learning_rate': 0.08016468669794806}, {'n_estimators': 24, 'max_depth': 4, 'min_samples_split': 3, 'learning_rate': 0.05550393704485496}, {'n_estimators': 25, 'max_depth': 1, 'min_samples_split': 4, 'learning_rate': 0.04940250862779231}, {'n_estimators': 46, 'max_depth': 2, 'min_samples_split': 4, 'learning_rate': 0.0276045743495398}, {'n_estimators': 46, 'max_depth': 2, 'min_samples_split': 5, 'learning_rate': 0.03215461070203104}, {'n_estimators': 26, 'max_depth': 3, 'min_samples_split': 2, 'learning_rate': 0.08152999426515796}, {'n_estimators': 48, 'max_depth': 3, 'min_samples_split': 2, 'learning_rate': 0.019341202557729694}, {'n_estimators': 19, 'max_depth': 5, 'min_samples_split': 4, 'learning_rate': 0.02597852944892961}, {'n_estimators': 11, 'max_depth': 5, 'min_samples_split': 2, 'learning_rate': 0.0708692049231663}]\n",
      "Iteration: 1 | avg: 51.2251 | min:47.1945 | std: 4.0640\n",
      "[{'n_estimators': 37, 'max_depth': 3, 'min_samples_split': 4, 'learning_rate': 0.09471574503480079}, {'n_estimators': 16, 'max_depth': 4, 'min_samples_split': 4, 'learning_rate': 0.057480925025114975}, {'n_estimators': 40, 'max_depth': 2, 'min_samples_split': 5, 'learning_rate': 0.01698013411610632}, {'n_estimators': 44, 'max_depth': 4, 'min_samples_split': 3, 'learning_rate': 0.04077471993032216}, {'n_estimators': 48, 'max_depth': 3, 'min_samples_split': 3, 'learning_rate': 0.04566867111150471}, {'n_estimators': 44, 'max_depth': 3, 'min_samples_split': 4, 'learning_rate': 0.047003429282388536}, {'n_estimators': 27, 'max_depth': 5, 'min_samples_split': 3, 'learning_rate': 0.07347252223581073}, {'n_estimators': 29, 'max_depth': 3, 'min_samples_split': 4, 'learning_rate': 0.023575558533988357}, {'n_estimators': 40, 'max_depth': 5, 'min_samples_split': 4, 'learning_rate': 0.05366203910793093}, {'n_estimators': 31, 'max_depth': 3, 'min_samples_split': 3, 'learning_rate': 0.08322707905204978}, {'n_estimators': 43, 'max_depth': 4, 'min_samples_split': 3, 'learning_rate': 0.0948423293004623}, {'n_estimators': 17, 'max_depth': 3, 'min_samples_split': 3, 'learning_rate': 0.012073229174094374}, {'n_estimators': 31, 'max_depth': 2, 'min_samples_split': 4, 'learning_rate': 0.016031271025653125}, {'n_estimators': 34, 'max_depth': 3, 'min_samples_split': 4, 'learning_rate': 0.04727092039684138}, {'n_estimators': 25, 'max_depth': 4, 'min_samples_split': 5, 'learning_rate': 0.06398098234128889}, {'n_estimators': 36, 'max_depth': 4, 'min_samples_split': 2, 'learning_rate': 0.06758336248360021}, {'n_estimators': 43, 'max_depth': 3, 'min_samples_split': 4, 'learning_rate': 0.02047284678691364}, {'n_estimators': 30, 'max_depth': 3, 'min_samples_split': 4, 'learning_rate': 0.0948432704576836}, {'n_estimators': 24, 'max_depth': 4, 'min_samples_split': 5, 'learning_rate': 0.09815269744398285}, {'n_estimators': 27, 'max_depth': 4, 'min_samples_split': 4, 'learning_rate': 0.09922498493286816}, {'n_estimators': 32, 'max_depth': 3, 'min_samples_split': 3, 'learning_rate': 0.025635145400110644}, {'n_estimators': 40, 'max_depth': 5, 'min_samples_split': 4, 'learning_rate': 0.06280149950404983}, {'n_estimators': 31, 'max_depth': 3, 'min_samples_split': 4, 'learning_rate': 0.040947342780211775}, {'n_estimators': 36, 'max_depth': 3, 'min_samples_split': 3, 'learning_rate': 0.024335010598318656}, {'n_estimators': 31, 'max_depth': 4, 'min_samples_split': 3, 'learning_rate': 0.06160529566684402}, {'n_estimators': 28, 'max_depth': 2, 'min_samples_split': 4, 'learning_rate': 0.09431029869863983}, {'n_estimators': 46, 'max_depth': 3, 'min_samples_split': 4, 'learning_rate': 0.07636307027501903}, {'n_estimators': 45, 'max_depth': 2, 'min_samples_split': 5, 'learning_rate': 0.08238277919246777}, {'n_estimators': 29, 'max_depth': 3, 'min_samples_split': 3, 'learning_rate': 0.06114194327430327}, {'n_estimators': 47, 'max_depth': 3, 'min_samples_split': 3, 'learning_rate': 0.07717044437080202}, {'n_estimators': 31, 'max_depth': 5, 'min_samples_split': 4, 'learning_rate': 0.08250856822033983}, {'n_estimators': 18, 'max_depth': 5, 'min_samples_split': 2, 'learning_rate': 0.04380634888462218}]\n",
      "Iteration: 2 | avg: 49.6605 | min:46.6999 | std: 3.3567\n",
      "[{'n_estimators': 41, 'max_depth': 3, 'min_samples_split': 5, 'learning_rate': 0.09905302601018916}, {'n_estimators': 26, 'max_depth': 4, 'min_samples_split': 4, 'learning_rate': 0.03938558311438944}, {'n_estimators': 42, 'max_depth': 2, 'min_samples_split': 5, 'learning_rate': 0.09175247831024709}, {'n_estimators': 45, 'max_depth': 3, 'min_samples_split': 4, 'learning_rate': 0.08387900078327001}, {'n_estimators': 47, 'max_depth': 3, 'min_samples_split': 4, 'learning_rate': 0.01872839877219381}, {'n_estimators': 44, 'max_depth': 3, 'min_samples_split': 4, 'learning_rate': 0.08514493900856894}, {'n_estimators': 31, 'max_depth': 4, 'min_samples_split': 4, 'learning_rate': 0.036276834043755694}, {'n_estimators': 38, 'max_depth': 3, 'min_samples_split': 5, 'learning_rate': 0.0966021497308022}, {'n_estimators': 44, 'max_depth': 4, 'min_samples_split': 4, 'learning_rate': 0.09429746200107911}, {'n_estimators': 38, 'max_depth': 3, 'min_samples_split': 4, 'learning_rate': 0.04529402263314838}, {'n_estimators': 44, 'max_depth': 4, 'min_samples_split': 4, 'learning_rate': 0.024416841907975252}, {'n_estimators': 26, 'max_depth': 3, 'min_samples_split': 3, 'learning_rate': 0.012769325555022462}, {'n_estimators': 38, 'max_depth': 3, 'min_samples_split': 4, 'learning_rate': 0.08626393554988812}, {'n_estimators': 37, 'max_depth': 3, 'min_samples_split': 4, 'learning_rate': 0.08363527679527474}, {'n_estimators': 33, 'max_depth': 3, 'min_samples_split': 5, 'learning_rate': 0.08868479415239536}, {'n_estimators': 44, 'max_depth': 3, 'min_samples_split': 3, 'learning_rate': 0.03557611338186142}, {'n_estimators': 44, 'max_depth': 3, 'min_samples_split': 4, 'learning_rate': 0.015458667353282487}, {'n_estimators': 34, 'max_depth': 3, 'min_samples_split': 4, 'learning_rate': 0.06839437939405787}, {'n_estimators': 41, 'max_depth': 3, 'min_samples_split': 5, 'learning_rate': 0.04566749696988117}, {'n_estimators': 36, 'max_depth': 4, 'min_samples_split': 4, 'learning_rate': 0.035669801577043796}, {'n_estimators': 37, 'max_depth': 3, 'min_samples_split': 4, 'learning_rate': 0.0320812807936962}, {'n_estimators': 42, 'max_depth': 4, 'min_samples_split': 4, 'learning_rate': 0.0314072145768222}, {'n_estimators': 33, 'max_depth': 3, 'min_samples_split': 4, 'learning_rate': 0.09277043511753717}, {'n_estimators': 41, 'max_depth': 3, 'min_samples_split': 3, 'learning_rate': 0.057230226459827255}, {'n_estimators': 36, 'max_depth': 4, 'min_samples_split': 4, 'learning_rate': 0.024822552146039532}, {'n_estimators': 31, 'max_depth': 2, 'min_samples_split': 4, 'learning_rate': 0.023284289659029782}, {'n_estimators': 46, 'max_depth': 3, 'min_samples_split': 4, 'learning_rate': 0.05872993387375535}, {'n_estimators': 45, 'max_depth': 3, 'min_samples_split': 5, 'learning_rate': 0.062496863437686116}, {'n_estimators': 29, 'max_depth': 3, 'min_samples_split': 4, 'learning_rate': 0.0158872280212669}, {'n_estimators': 46, 'max_depth': 3, 'min_samples_split': 4, 'learning_rate': 0.06238420030007554}, {'n_estimators': 44, 'max_depth': 5, 'min_samples_split': 4, 'learning_rate': 0.02072036702091582}, {'n_estimators': 30, 'max_depth': 4, 'min_samples_split': 3, 'learning_rate': 0.037907095473201015}]\n",
      "Iteration: 3 | avg: 49.5941 | min:46.6825 | std: 3.0214\n",
      "[{'n_estimators': 43, 'max_depth': 3, 'min_samples_split': 5, 'learning_rate': 0.09977857843685697}, {'n_estimators': 33, 'max_depth': 4, 'min_samples_split': 5, 'learning_rate': 0.0820024020614021}, {'n_estimators': 43, 'max_depth': 2, 'min_samples_split': 5, 'learning_rate': 0.08413865040731745}, {'n_estimators': 43, 'max_depth': 3, 'min_samples_split': 4, 'learning_rate': 0.015536674280357076}, {'n_estimators': 46, 'max_depth': 3, 'min_samples_split': 4, 'learning_rate': 0.07637994926410996}, {'n_estimators': 44, 'max_depth': 3, 'min_samples_split': 4, 'learning_rate': 0.06098017942021388}, {'n_estimators': 35, 'max_depth': 3, 'min_samples_split': 4, 'learning_rate': 0.07856815224601259}, {'n_estimators': 45, 'max_depth': 2, 'min_samples_split': 5, 'learning_rate': 0.042630676749879436}, {'n_estimators': 46, 'max_depth': 3, 'min_samples_split': 4, 'learning_rate': 0.023781554559410813}, {'n_estimators': 42, 'max_depth': 3, 'min_samples_split': 4, 'learning_rate': 0.09443666051705282}, {'n_estimators': 43, 'max_depth': 3, 'min_samples_split': 4, 'learning_rate': 0.01482952130892994}, {'n_estimators': 35, 'max_depth': 3, 'min_samples_split': 4, 'learning_rate': 0.012069051526284602}, {'n_estimators': 41, 'max_depth': 2, 'min_samples_split': 4, 'learning_rate': 0.03163132940177201}, {'n_estimators': 40, 'max_depth': 2, 'min_samples_split': 4, 'learning_rate': 0.014366979534136631}, {'n_estimators': 40, 'max_depth': 3, 'min_samples_split': 5, 'learning_rate': 0.011899608150261842}, {'n_estimators': 44, 'max_depth': 3, 'min_samples_split': 3, 'learning_rate': 0.08929887277618884}, {'n_estimators': 43, 'max_depth': 3, 'min_samples_split': 4, 'learning_rate': 0.09005420376546493}, {'n_estimators': 36, 'max_depth': 3, 'min_samples_split': 4, 'learning_rate': 0.06929707677524537}, {'n_estimators': 47, 'max_depth': 3, 'min_samples_split': 5, 'learning_rate': 0.07896322460091357}, {'n_estimators': 42, 'max_depth': 3, 'min_samples_split': 5, 'learning_rate': 0.06794646163499965}, {'n_estimators': 40, 'max_depth': 2, 'min_samples_split': 4, 'learning_rate': 0.015540124865832053}, {'n_estimators': 42, 'max_depth': 4, 'min_samples_split': 4, 'learning_rate': 0.052534280082159206}, {'n_estimators': 35, 'max_depth': 3, 'min_samples_split': 4, 'learning_rate': 0.07367789245515312}, {'n_estimators': 41, 'max_depth': 3, 'min_samples_split': 4, 'learning_rate': 0.08203187118073706}, {'n_estimators': 39, 'max_depth': 4, 'min_samples_split': 4, 'learning_rate': 0.07051417807338681}, {'n_estimators': 35, 'max_depth': 2, 'min_samples_split': 4, 'learning_rate': 0.05522346296044679}, {'n_estimators': 46, 'max_depth': 2, 'min_samples_split': 4, 'learning_rate': 0.014779305205441356}, {'n_estimators': 45, 'max_depth': 2, 'min_samples_split': 5, 'learning_rate': 0.023396232706591975}, {'n_estimators': 33, 'max_depth': 3, 'min_samples_split': 4, 'learning_rate': 0.09961463037800307}, {'n_estimators': 45, 'max_depth': 3, 'min_samples_split': 4, 'learning_rate': 0.022154085724003188}, {'n_estimators': 49, 'max_depth': 5, 'min_samples_split': 5, 'learning_rate': 0.025973349388258953}, {'n_estimators': 40, 'max_depth': 3, 'min_samples_split': 4, 'learning_rate': 0.05527235595911086}]\n"
     ]
    }
   ],
   "source": [
    "from pso_search import PSOSearchCV\n",
    "cv = PSOSearchCV(estimator=ensemble.GradientBoostingRegressor(),\n",
    "                                   param_grid=params,\n",
    "                                   scoring=\"neg_mean_absolute_error\",\n",
    "                                   n_particles=32, \n",
    "                                   cv=4,\n",
    "                                   verbose=0,\n",
    "                                   iterations = 5, \n",
    "                                   n_jobs=4)\n",
    "cv.fit(X, y)"
   ]
  },
  {
   "cell_type": "code",
   "execution_count": null,
   "metadata": {},
   "outputs": [],
   "source": []
  }
 ],
 "metadata": {
  "kernelspec": {
   "display_name": "Python 3",
   "language": "python",
   "name": "python3"
  },
  "language_info": {
   "codemirror_mode": {
    "name": "ipython",
    "version": 3
   },
   "file_extension": ".py",
   "mimetype": "text/x-python",
   "name": "python",
   "nbconvert_exporter": "python",
   "pygments_lexer": "ipython3",
   "version": "3.7.3"
  }
 },
 "nbformat": 4,
 "nbformat_minor": 4
}
